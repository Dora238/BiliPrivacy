{
 "cells": [
  {
   "cell_type": "markdown",
   "metadata": {},
   "source": [
    "# GPT-4 隐私保护分析示例\n",
    "\n",
    "本notebook展示如何使用GPT-4进行用户数据的隐私保护分析，包括PII检测和数据脱敏。"
   ]
  },
  {
   "cell_type": "code",
   "execution_count": 6,
   "metadata": {},
   "outputs": [
    {
     "ename": "ModuleNotFoundError",
     "evalue": "No module named 'utils'",
     "output_type": "error",
     "traceback": [
      "\u001b[1;31m---------------------------------------------------------------------------\u001b[0m",
      "\u001b[1;31mModuleNotFoundError\u001b[0m                       Traceback (most recent call last)",
      "Cell \u001b[1;32mIn[6], line 6\u001b[0m\n\u001b[0;32m      4\u001b[0m \u001b[38;5;28;01mimport\u001b[39;00m \u001b[38;5;21;01mpandas\u001b[39;00m \u001b[38;5;28;01mas\u001b[39;00m \u001b[38;5;21;01mpd\u001b[39;00m\n\u001b[0;32m      5\u001b[0m \u001b[38;5;28;01mimport\u001b[39;00m \u001b[38;5;21;01mnumpy\u001b[39;00m \u001b[38;5;28;01mas\u001b[39;00m \u001b[38;5;21;01mnp\u001b[39;00m\n\u001b[1;32m----> 6\u001b[0m \u001b[38;5;28;01mfrom\u001b[39;00m \u001b[38;5;21;01msrc\u001b[39;00m\u001b[38;5;21;01m.\u001b[39;00m\u001b[38;5;21;01mtask1_pii_detection\u001b[39;00m \u001b[38;5;28;01mimport\u001b[39;00m detect_pii\n\u001b[0;32m      7\u001b[0m \u001b[38;5;28;01mfrom\u001b[39;00m \u001b[38;5;21;01msrc\u001b[39;00m\u001b[38;5;21;01m.\u001b[39;00m\u001b[38;5;21;01mmodel_api\u001b[39;00m \u001b[38;5;28;01mimport\u001b[39;00m get_gpt4_analysis\n\u001b[0;32m      8\u001b[0m \u001b[38;5;28;01mfrom\u001b[39;00m \u001b[38;5;21;01msrc\u001b[39;00m\u001b[38;5;21;01m.\u001b[39;00m\u001b[38;5;21;01mutils\u001b[39;00m \u001b[38;5;28;01mimport\u001b[39;00m load_config\n",
      "File \u001b[1;32md:\\code\\BiliPrivacy\\example_notebooks\\..\\src\\task1_pii_detection.py:1\u001b[0m\n\u001b[1;32m----> 1\u001b[0m \u001b[38;5;28;01mfrom\u001b[39;00m \u001b[38;5;21;01mutils\u001b[39;00m \u001b[38;5;28;01mimport\u001b[39;00m set_credentials\n\u001b[0;32m      2\u001b[0m \u001b[38;5;28;01mimport\u001b[39;00m \u001b[38;5;21;01margparse\u001b[39;00m\n\u001b[0;32m      3\u001b[0m \u001b[38;5;28;01mimport\u001b[39;00m \u001b[38;5;21;01mnumpy\u001b[39;00m \u001b[38;5;28;01mas\u001b[39;00m \u001b[38;5;21;01mnp\u001b[39;00m\n",
      "\u001b[1;31mModuleNotFoundError\u001b[0m: No module named 'utils'"
     ]
    }
   ],
   "source": [
    "import sys\n",
    "sys.path.append('../')\n",
    "\n",
    "import pandas as pd\n",
    "import numpy as np\n",
    "from src.task1_pii_detection import detect_pii\n",
    "from src.model_api import get_gpt4_analysis\n",
    "from src.utils import load_config"
   ]
  },
  {
   "cell_type": "markdown",
   "metadata": {},
   "source": [
    "## 1. 加载测试数据"
   ]
  },
  {
   "cell_type": "code",
   "execution_count": null,
   "metadata": {},
   "outputs": [],
   "source": [
    "# 加载示例用户评论数据\n",
    "user_name = 'bidao'\n",
    "test_comments = pd.read_csv(f'../data/processed_data/{user_name}.txt')\n",
    "print(\"数据样本数量:\", len(test_comments))\n",
    "test_comments.head()"
   ]
  },
  {
   "cell_type": "markdown",
   "metadata": {},
   "source": [
    "## 2. PII检测"
   ]
  },
  {
   "cell_type": "code",
   "execution_count": null,
   "metadata": {},
   "outputs": [],
   "source": [
    "# 使用GPT-4检测PII信息\n",
    "pii_results = detect_pii(test_comments['content'])\n",
    "\n",
    "# 显示检测结果统计\n",
    "pii_types = pd.DataFrame(pii_results)\n",
    "print(\"PII类型分布:\")\n",
    "print(pii_types['pii_type'].value_counts())"
   ]
  },
  {
   "cell_type": "markdown",
   "metadata": {},
   "source": [
    "## 3. 数据脱敏处理"
   ]
  },
  {
   "cell_type": "code",
   "execution_count": null,
   "metadata": {},
   "outputs": [],
   "source": [
    "# 对检测到的PII信息进行脱敏\n",
    "def anonymize_text(text, pii_info):\n",
    "    # 实现脱敏逻辑\n",
    "    return text\n",
    "\n",
    "anonymized_comments = test_comments.copy()\n",
    "anonymized_comments['content'] = anonymized_comments['content'].apply(\n",
    "    lambda x: anonymize_text(x, pii_results)\n",
    ")\n",
    "\n",
    "# 显示脱敏前后的对比\n",
    "comparison = pd.DataFrame({\n",
    "    '原始文本': test_comments['content'].head(),\n",
    "    '脱敏后文本': anonymized_comments['content'].head()\n",
    "})\n",
    "comparison"
   ]
  },
  {
   "cell_type": "markdown",
   "metadata": {},
   "source": [
    "## 4. GPT-4隐私风险评估"
   ]
  },
  {
   "cell_type": "code",
   "execution_count": null,
   "metadata": {},
   "outputs": [],
   "source": [
    "# 使用GPT-4评估隐私风险\n",
    "risk_assessment = get_gpt4_analysis(anonymized_comments['content'])\n",
    "\n",
    "# 显示风险评估结果\n",
    "print(\"隐私风险评估结果:\")\n",
    "for risk in risk_assessment:\n",
    "    print(f\"- {risk['risk_type']}: {risk['description']}\")"
   ]
  },
  {
   "cell_type": "markdown",
   "metadata": {},
   "source": [
    "## 5. 隐私保护建议"
   ]
  },
  {
   "cell_type": "code",
   "execution_count": null,
   "metadata": {},
   "outputs": [],
   "source": [
    "# 生成隐私保护建议\n",
    "def generate_privacy_recommendations(risk_assessment):\n",
    "    # 实现建议生成逻辑\n",
    "    return []\n",
    "\n",
    "recommendations = generate_privacy_recommendations(risk_assessment)\n",
    "\n",
    "print(\"隐私保护建议:\")\n",
    "for i, rec in enumerate(recommendations, 1):\n",
    "    print(f\"{i}. {rec}\")"
   ]
  }
 ],
 "metadata": {
  "kernelspec": {
   "display_name": "biliprivacy",
   "language": "python",
   "name": "python3"
  },
  "language_info": {
   "codemirror_mode": {
    "name": "ipython",
    "version": 3
   },
   "file_extension": ".py",
   "mimetype": "text/x-python",
   "name": "python",
   "nbconvert_exporter": "python",
   "pygments_lexer": "ipython3",
   "version": "3.8.20"
  }
 },
 "nbformat": 4,
 "nbformat_minor": 4
}
